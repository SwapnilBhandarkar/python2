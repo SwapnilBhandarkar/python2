{
 "cells": [
  {
   "cell_type": "code",
   "execution_count": 2,
   "metadata": {},
   "outputs": [],
   "source": [
    "import re"
   ]
  },
  {
   "cell_type": "code",
   "execution_count": null,
   "metadata": {},
   "outputs": [],
   "source": [
    "\"\"\"\n",
    "[] => det of characters...ex [a-m]\n",
    "\\ => special sequence... \"\\d\"\n",
    ". => any character... \"he.a\"\n",
    "^ => start with ... ^hello\n",
    "$ => ends with ... Planet$\n",
    "* => zero or more occurence \"he*o\"\n",
    "+ => one or more occurence... \"he+o\"\n",
    "? => zero or one occurence\n",
    "{} => exactly specified no occurence  -->he.{2}0\n",
    "| => Either or --->  falls/stays\n",
    "\"\"\"\n"
   ]
  },
  {
   "cell_type": "code",
   "execution_count": null,
   "metadata": {},
   "outputs": [],
   "source": [
    "txt=\"The rain on chain in spain of chennai\"\n",
    "x=re.findall(\"ai\",txt)\n",
    "print(x)"
   ]
  },
  {
   "cell_type": "code",
   "execution_count": null,
   "metadata": {},
   "outputs": [],
   "source": [
    "txt=\"The rain on chain in spain of chennai\"\n",
    "x=re.findall(\"ai\",txt)\n",
    "print(x)"
   ]
  },
  {
   "cell_type": "code",
   "execution_count": null,
   "metadata": {},
   "outputs": [],
   "source": [
    "txt=\"The rain on chain in spain of chennai\"\n",
    "x=re.search(\"ai\",txt)\n",
    "print(x)\n",
    "print(x.start())\n",
    "print(x.end())"
   ]
  }
 ],
 "metadata": {
  "kernelspec": {
   "display_name": "Python 3",
   "language": "python",
   "name": "python3"
  },
  "language_info": {
   "codemirror_mode": {
    "name": "ipython",
    "version": 3
   },
   "file_extension": ".py",
   "mimetype": "text/x-python",
   "name": "python",
   "nbconvert_exporter": "python",
   "pygments_lexer": "ipython3",
   "version": "3.8.5"
  }
 },
 "nbformat": 4,
 "nbformat_minor": 4
}
